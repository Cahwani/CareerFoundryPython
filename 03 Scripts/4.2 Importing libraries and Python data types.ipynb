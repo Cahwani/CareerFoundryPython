{
 "cells": [
  {
   "cell_type": "markdown",
   "id": "223d6438",
   "metadata": {},
   "source": [
    "# 01. Importing libraries"
   ]
  },
  {
   "cell_type": "code",
   "execution_count": 9,
   "id": "099c0bc8",
   "metadata": {},
   "outputs": [],
   "source": [
    "# Import libraries\n",
    "import pandas as pd\n",
    "import numpy as np\n",
    "import os"
   ]
  },
  {
   "cell_type": "markdown",
   "id": "4afb6b47",
   "metadata": {},
   "source": [
    "# 02 Data Types"
   ]
  },
  {
   "cell_type": "code",
   "execution_count": 1,
   "id": "f611e4f0",
   "metadata": {},
   "outputs": [],
   "source": [
    "x=2"
   ]
  },
  {
   "cell_type": "code",
   "execution_count": 2,
   "id": "bdb7c6fc",
   "metadata": {},
   "outputs": [
    {
     "data": {
      "text/plain": [
       "2"
      ]
     },
     "execution_count": 2,
     "metadata": {},
     "output_type": "execute_result"
    }
   ],
   "source": [
    "x"
   ]
  },
  {
   "cell_type": "code",
   "execution_count": 3,
   "id": "bf66b53a",
   "metadata": {},
   "outputs": [
    {
     "name": "stdout",
     "output_type": "stream",
     "text": [
      "2\n"
     ]
    }
   ],
   "source": [
    "print (x)"
   ]
  },
  {
   "cell_type": "code",
   "execution_count": 4,
   "id": "fdd394d2",
   "metadata": {},
   "outputs": [
    {
     "data": {
      "text/plain": [
       "int"
      ]
     },
     "execution_count": 4,
     "metadata": {},
     "output_type": "execute_result"
    }
   ],
   "source": [
    "type (x)"
   ]
  },
  {
   "cell_type": "code",
   "execution_count": 5,
   "id": "09023654",
   "metadata": {},
   "outputs": [],
   "source": [
    "y = 5.678"
   ]
  },
  {
   "cell_type": "code",
   "execution_count": 6,
   "id": "511ea7d4",
   "metadata": {},
   "outputs": [
    {
     "data": {
      "text/plain": [
       "float"
      ]
     },
     "execution_count": 6,
     "metadata": {},
     "output_type": "execute_result"
    }
   ],
   "source": [
    "type (y)"
   ]
  },
  {
   "cell_type": "code",
   "execution_count": 7,
   "id": "884a917c",
   "metadata": {},
   "outputs": [],
   "source": [
    "z='Brazil'"
   ]
  },
  {
   "cell_type": "code",
   "execution_count": 8,
   "id": "aa7fc8ff",
   "metadata": {},
   "outputs": [
    {
     "data": {
      "text/plain": [
       "str"
      ]
     },
     "execution_count": 8,
     "metadata": {},
     "output_type": "execute_result"
    }
   ],
   "source": [
    "type (z)"
   ]
  },
  {
   "cell_type": "code",
   "execution_count": 12,
   "id": "be898c1d",
   "metadata": {},
   "outputs": [],
   "source": [
    "x=90+10"
   ]
  },
  {
   "cell_type": "code",
   "execution_count": 13,
   "id": "ab6d5111",
   "metadata": {},
   "outputs": [
    {
     "data": {
      "text/plain": [
       "100"
      ]
     },
     "execution_count": 13,
     "metadata": {},
     "output_type": "execute_result"
    }
   ],
   "source": [
    "x"
   ]
  },
  {
   "cell_type": "code",
   "execution_count": 16,
   "id": "7c3d18a7",
   "metadata": {},
   "outputs": [],
   "source": [
    "y=130-30"
   ]
  },
  {
   "cell_type": "code",
   "execution_count": 17,
   "id": "f23cf4a6",
   "metadata": {},
   "outputs": [
    {
     "data": {
      "text/plain": [
       "100"
      ]
     },
     "execution_count": 17,
     "metadata": {},
     "output_type": "execute_result"
    }
   ],
   "source": [
    "y"
   ]
  },
  {
   "cell_type": "code",
   "execution_count": 18,
   "id": "c379822e",
   "metadata": {},
   "outputs": [],
   "source": [
    "z=50+50"
   ]
  },
  {
   "cell_type": "code",
   "execution_count": 19,
   "id": "9af4d5c4",
   "metadata": {},
   "outputs": [
    {
     "data": {
      "text/plain": [
       "100"
      ]
     },
     "execution_count": 19,
     "metadata": {},
     "output_type": "execute_result"
    }
   ],
   "source": [
    "z"
   ]
  },
  {
   "cell_type": "code",
   "execution_count": 20,
   "id": "b42aee7a",
   "metadata": {},
   "outputs": [
    {
     "name": "stdout",
     "output_type": "stream",
     "text": [
      "100 100 100\n"
     ]
    }
   ],
   "source": [
    "print(x,y,z)"
   ]
  },
  {
   "cell_type": "code",
   "execution_count": 21,
   "id": "9d4c2753",
   "metadata": {},
   "outputs": [],
   "source": [
    "a=19.567"
   ]
  },
  {
   "cell_type": "code",
   "execution_count": 24,
   "id": "4cb0ac91",
   "metadata": {},
   "outputs": [],
   "source": [
    "b=3.629"
   ]
  },
  {
   "cell_type": "code",
   "execution_count": 26,
   "id": "5aec358f",
   "metadata": {},
   "outputs": [],
   "source": [
    "c=(a/b)"
   ]
  },
  {
   "cell_type": "code",
   "execution_count": 27,
   "id": "075b253f",
   "metadata": {},
   "outputs": [
    {
     "name": "stdout",
     "output_type": "stream",
     "text": [
      "5.391843483053183\n"
     ]
    }
   ],
   "source": [
    "print (c)"
   ]
  },
  {
   "cell_type": "code",
   "execution_count": 30,
   "id": "fab9e908",
   "metadata": {},
   "outputs": [],
   "source": [
    "a='C'"
   ]
  },
  {
   "cell_type": "code",
   "execution_count": 31,
   "id": "dababf31",
   "metadata": {},
   "outputs": [],
   "source": [
    "b='H'"
   ]
  },
  {
   "cell_type": "code",
   "execution_count": 32,
   "id": "c5ec4f91",
   "metadata": {},
   "outputs": [],
   "source": [
    "c='I'"
   ]
  },
  {
   "cell_type": "code",
   "execution_count": 33,
   "id": "fd615047",
   "metadata": {},
   "outputs": [],
   "source": [
    "d='P'"
   ]
  },
  {
   "cell_type": "code",
   "execution_count": 34,
   "id": "ed2afe7f",
   "metadata": {},
   "outputs": [],
   "source": [
    "e='O'"
   ]
  },
  {
   "cell_type": "code",
   "execution_count": 35,
   "id": "c03bcd7b",
   "metadata": {},
   "outputs": [],
   "source": [
    "g=a+b+c+d+e"
   ]
  },
  {
   "cell_type": "code",
   "execution_count": 36,
   "id": "b21bbca2",
   "metadata": {},
   "outputs": [
    {
     "name": "stdout",
     "output_type": "stream",
     "text": [
      "CHIPO\n"
     ]
    }
   ],
   "source": [
    "print(g)"
   ]
  },
  {
   "cell_type": "code",
   "execution_count": 37,
   "id": "4e1a7ce3",
   "metadata": {},
   "outputs": [],
   "source": [
    "r='Welcome'"
   ]
  },
  {
   "cell_type": "code",
   "execution_count": 42,
   "id": "cde56ec4",
   "metadata": {},
   "outputs": [],
   "source": [
    "s=' to'"
   ]
  },
  {
   "cell_type": "code",
   "execution_count": 43,
   "id": "d278cad2",
   "metadata": {},
   "outputs": [],
   "source": [
    "t=' Harare'"
   ]
  },
  {
   "cell_type": "code",
   "execution_count": 46,
   "id": "9d23b900",
   "metadata": {},
   "outputs": [],
   "source": [
    "p=r+s+t"
   ]
  },
  {
   "cell_type": "code",
   "execution_count": 47,
   "id": "5c2224ec",
   "metadata": {},
   "outputs": [
    {
     "name": "stdout",
     "output_type": "stream",
     "text": [
      "Welcome to Harare\n"
     ]
    }
   ],
   "source": [
    "print(p)"
   ]
  },
  {
   "cell_type": "code",
   "execution_count": 48,
   "id": "9bc6f9ea",
   "metadata": {},
   "outputs": [],
   "source": [
    "u=\"Hungry\""
   ]
  },
  {
   "cell_type": "code",
   "execution_count": 54,
   "id": "c7160a40",
   "metadata": {},
   "outputs": [],
   "source": [
    "v=\" Let's\""
   ]
  },
  {
   "cell_type": "code",
   "execution_count": 55,
   "id": "a92f9bea",
   "metadata": {},
   "outputs": [],
   "source": [
    "w=\" fix it\""
   ]
  },
  {
   "cell_type": "code",
   "execution_count": 56,
   "id": "4d080dec",
   "metadata": {},
   "outputs": [],
   "source": [
    "z=u+v+w"
   ]
  },
  {
   "cell_type": "code",
   "execution_count": 57,
   "id": "847c6979",
   "metadata": {},
   "outputs": [
    {
     "name": "stdout",
     "output_type": "stream",
     "text": [
      "Hungry Let's fix it\n"
     ]
    }
   ],
   "source": [
    "print(z)"
   ]
  }
 ],
 "metadata": {
  "kernelspec": {
   "display_name": "Python 3 (ipykernel)",
   "language": "python",
   "name": "python3"
  },
  "language_info": {
   "codemirror_mode": {
    "name": "ipython",
    "version": 3
   },
   "file_extension": ".py",
   "mimetype": "text/x-python",
   "name": "python",
   "nbconvert_exporter": "python",
   "pygments_lexer": "ipython3",
   "version": "3.9.13"
  }
 },
 "nbformat": 4,
 "nbformat_minor": 5
}
